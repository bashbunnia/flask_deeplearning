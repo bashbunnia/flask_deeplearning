{
 "cells": [
  {
   "cell_type": "markdown",
   "metadata": {},
   "source": [
    "The MNIST (Modified National Institute of Standards and Technology) dataset consists of images of handwritten digits that is used for training and testing image processing systems"
   ]
  },
  {
   "cell_type": "markdown",
   "metadata": {},
   "source": [
    "This is a multiclass classification problem in which the goal is to predict a single discrete label (0,1,2,3,4,5,6,7,8,9)\n",
    "\n",
    "This notebook is used to generate a predictive model for the production system"
   ]
  },
  {
   "cell_type": "code",
   "execution_count": 1,
   "metadata": {},
   "outputs": [],
   "source": [
    "from tensorflow.keras.datasets import mnist # mnist dataset\n",
    "from tensorflow.keras import models\n",
    "from tensorflow.keras import layers\n",
    "from tensorflow.keras.models import load_model\n",
    "from tensorflow.keras.utils import to_categorical\n",
    "\n",
    "from skimage import io, transform, util\n",
    "import os\n",
    "\n",
    "import matplotlib.pyplot as plt # plotting\n",
    "import numpy as np # linear algebra"
   ]
  },
  {
   "cell_type": "markdown",
   "metadata": {},
   "source": [
    "Loading MNIST dataset"
   ]
  },
  {
   "cell_type": "code",
   "execution_count": 2,
   "metadata": {},
   "outputs": [],
   "source": [
    "(train_images, train_labels), (test_images, test_labels) = mnist.load_data()"
   ]
  },
  {
   "cell_type": "code",
   "execution_count": 3,
   "metadata": {},
   "outputs": [
    {
     "data": {
      "text/plain": [
       "(60000, 28, 28)"
      ]
     },
     "execution_count": 3,
     "metadata": {},
     "output_type": "execute_result"
    }
   ],
   "source": [
    "train_images.shape"
   ]
  },
  {
   "cell_type": "code",
   "execution_count": 4,
   "metadata": {},
   "outputs": [
    {
     "data": {
      "text/plain": [
       "(10000, 28, 28)"
      ]
     },
     "execution_count": 4,
     "metadata": {},
     "output_type": "execute_result"
    }
   ],
   "source": [
    "test_images.shape"
   ]
  },
  {
   "cell_type": "markdown",
   "metadata": {},
   "source": [
    "Linear model definition"
   ]
  },
  {
   "cell_type": "markdown",
   "metadata": {},
   "source": [
    "The output of the network is a layer of size 10 with a probability distribution over the 10 different classes"
   ]
  },
  {
   "cell_type": "code",
   "execution_count": 5,
   "metadata": {},
   "outputs": [],
   "source": [
    "model = models.Sequential()\n",
    "model.add(layers.Dense(512, activation='relu', input_shape=(28 * 28,)))\n",
    "model.add(layers.Dense(10, activation='softmax'))"
   ]
  },
  {
   "cell_type": "markdown",
   "metadata": {},
   "source": [
    "Compiling the model"
   ]
  },
  {
   "cell_type": "markdown",
   "metadata": {},
   "source": [
    "The chosen loss function is categorical_crossentropy because is a multiclass classification problem"
   ]
  },
  {
   "cell_type": "code",
   "execution_count": 6,
   "metadata": {},
   "outputs": [],
   "source": [
    "model.compile(optimizer='rmsprop', loss='categorical_crossentropy', metrics=['accuracy'])"
   ]
  },
  {
   "cell_type": "markdown",
   "metadata": {},
   "source": [
    "Encoding the data"
   ]
  },
  {
   "cell_type": "code",
   "execution_count": 7,
   "metadata": {},
   "outputs": [],
   "source": [
    "train_images_prepared = train_images.reshape((60000, 28 * 28))\n",
    "train_images_prepared = train_images_prepared.astype('float32') / 255\n",
    "\n",
    "test_images_prepared = test_images.reshape((10000, 28 * 28))\n",
    "test_images_prepared = test_images_prepared.astype('float32') / 255"
   ]
  },
  {
   "cell_type": "code",
   "execution_count": 8,
   "metadata": {},
   "outputs": [],
   "source": [
    "train_labels_one_hot = to_categorical(train_labels)\n",
    "test_labels_one_hot = to_categorical(test_labels)"
   ]
  },
  {
   "cell_type": "markdown",
   "metadata": {},
   "source": [
    "Setting a validation set of 6000 samples from 60000 training images"
   ]
  },
  {
   "cell_type": "code",
   "execution_count": 9,
   "metadata": {},
   "outputs": [],
   "source": [
    "train_images_val = train_images_prepared[:6000]\n",
    "train_images_partial = train_images_prepared[6000:]\n",
    "\n",
    "train_labels_val = train_labels_one_hot[:6000]\n",
    "train_labels_partial = train_labels_one_hot[6000:]"
   ]
  },
  {
   "cell_type": "markdown",
   "metadata": {},
   "source": [
    "Training the model for 10 epochs or passes over the entire dataset"
   ]
  },
  {
   "cell_type": "code",
   "execution_count": 10,
   "metadata": {},
   "outputs": [
    {
     "name": "stdout",
     "output_type": "stream",
     "text": [
      "Train on 54000 samples, validate on 6000 samples\n",
      "Epoch 1/10\n",
      "54000/54000 [==============================] - 6s 108us/step - loss: 0.2693 - acc: 0.9224 - val_loss: 0.1361 - val_acc: 0.9588\n",
      "Epoch 2/10\n",
      "54000/54000 [==============================] - 5s 86us/step - loss: 0.1112 - acc: 0.9667 - val_loss: 0.0912 - val_acc: 0.9732\n",
      "Epoch 3/10\n",
      "54000/54000 [==============================] - 3s 58us/step - loss: 0.0726 - acc: 0.9787 - val_loss: 0.0859 - val_acc: 0.9735\n",
      "Epoch 4/10\n",
      "54000/54000 [==============================] - 3s 58us/step - loss: 0.0529 - acc: 0.9838 - val_loss: 0.0764 - val_acc: 0.9747\n",
      "Epoch 5/10\n",
      "54000/54000 [==============================] - 3s 58us/step - loss: 0.0391 - acc: 0.9884 - val_loss: 0.0745 - val_acc: 0.9773\n",
      "Epoch 6/10\n",
      "54000/54000 [==============================] - 3s 62us/step - loss: 0.0299 - acc: 0.9912 - val_loss: 0.0699 - val_acc: 0.9803\n",
      "Epoch 7/10\n",
      "54000/54000 [==============================] - 3s 63us/step - loss: 0.0222 - acc: 0.9935 - val_loss: 0.0676 - val_acc: 0.9793\n",
      "Epoch 8/10\n",
      "54000/54000 [==============================] - 3s 59us/step - loss: 0.0170 - acc: 0.9951 - val_loss: 0.0732 - val_acc: 0.9795\n",
      "Epoch 9/10\n",
      "54000/54000 [==============================] - 3s 58us/step - loss: 0.0135 - acc: 0.9963 - val_loss: 0.0694 - val_acc: 0.9815\n",
      "Epoch 10/10\n",
      "54000/54000 [==============================] - 3s 58us/step - loss: 0.0106 - acc: 0.9972 - val_loss: 0.0704 - val_acc: 0.9812\n"
     ]
    }
   ],
   "source": [
    "history = model.fit(train_images_partial, train_labels_partial, epochs=10, batch_size=128, validation_data=(train_images_val, train_labels_val))"
   ]
  },
  {
   "cell_type": "markdown",
   "metadata": {},
   "source": [
    "Plotting training and validation loss"
   ]
  },
  {
   "cell_type": "code",
   "execution_count": 11,
   "metadata": {},
   "outputs": [
    {
     "data": {
      "image/png": "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