{
 "cells": [
  {
   "cell_type": "markdown",
   "metadata": {},
   "source": [
    "The MNIST (Modified National Institute of Standards and Technology) dataset consists of images of handwritten digits that is used for training and testing image processing systems"
   ]
  },
  {
   "cell_type": "markdown",
   "metadata": {},
   "source": [
    "This is a multiclass classification problem in which the goal is to predict a single discrete label (0,1,2,3,4,5,6,7,8,9)\n",
    "\n",
    "This notebook is used to generate a predictive model for the production system"
   ]
  },
  {
   "cell_type": "code",
   "execution_count": 1,
   "metadata": {},
   "outputs": [],
   "source": [
    "from tensorflow.keras.datasets import mnist # mnist dataset\n",
    "from tensorflow.keras import models\n",
    "from tensorflow.keras import layers\n",
    "from tensorflow.keras.models import load_model\n",
    "from tensorflow.keras.utils import to_categorical\n",
    "\n",
    "from skimage import io, transform, util\n",
    "import os\n",
    "\n",
    "import matplotlib.pyplot as plt # plotting\n",
    "import numpy as np # linear algebra"
   ]
  },
  {
   "cell_type": "markdown",
   "metadata": {},
   "source": [
    "Loading MNIST dataset"
   ]
  },
  {
   "cell_type": "code",
   "execution_count": 2,
   "metadata": {},
   "outputs": [],
   "source": [
    "(train_images, train_labels), (test_images, test_labels) = mnist.load_data()"
   ]
  },
  {
   "cell_type": "code",
   "execution_count": 3,
   "metadata": {},
   "outputs": [
    {
     "data": {
      "text/plain": [
       "(60000, 28, 28)"
      ]
     },
     "execution_count": 3,
     "metadata": {},
     "output_type": "execute_result"
    }
   ],
   "source": [
    "train_images.shape"
   ]
  },
  {
   "cell_type": "code",
   "execution_count": 4,
   "metadata": {},
   "outputs": [
    {
     "data": {
      "text/plain": [
       "(10000, 28, 28)"
      ]
     },
     "execution_count": 4,
     "metadata": {},
     "output_type": "execute_result"
    }
   ],
   "source": [
    "test_images.shape"
   ]
  },
  {
   "cell_type": "markdown",
   "metadata": {},
   "source": [
    "Linear model definition"
   ]
  },
  {
   "cell_type": "markdown",
   "metadata": {},
   "source": [
    "The output of the network is a layer of size 10 with a probability distribution over the 10 different classes"
   ]
  },
  {
   "cell_type": "code",
   "execution_count": 5,
   "metadata": {},
   "outputs": [],
   "source": [
    "model = models.Sequential()\n",
    "model.add(layers.Dense(512, activation='relu', input_shape=(28 * 28,)))\n",
    "model.add(layers.Dense(10, activation='softmax'))"
   ]
  },
  {
   "cell_type": "markdown",
   "metadata": {},
   "source": [
    "Compiling the model"
   ]
  },
  {
   "cell_type": "markdown",
   "metadata": {},
   "source": [
    "The chosen loss function is categorical_crossentropy because is a multiclass classification problem"
   ]
  },
  {
   "cell_type": "code",
   "execution_count": 6,
   "metadata": {},
   "outputs": [],
   "source": [
    "model.compile(optimizer='rmsprop', loss='categorical_crossentropy', metrics=['accuracy'])"
   ]
  },
  {
   "cell_type": "markdown",
   "metadata": {},
   "source": [
    "Encoding the data"
   ]
  },
  {
   "cell_type": "code",
   "execution_count": 7,
   "metadata": {},
   "outputs": [],
   "source": [
    "train_images_prepared = train_images.reshape((60000, 28 * 28))\n",
    "train_images_prepared = train_images_prepared.astype('float32') / 255\n",
    "\n",
    "test_images_prepared = test_images.reshape((10000, 28 * 28))\n",
    "test_images_prepared = test_images_prepared.astype('float32') / 255"
   ]
  },
  {
   "cell_type": "code",
   "execution_count": 8,
   "metadata": {},
   "outputs": [],
   "source": [
    "train_labels_one_hot = to_categorical(train_labels)\n",
    "test_labels_one_hot = to_categorical(test_labels)"
   ]
  },
  {
   "cell_type": "markdown",
   "metadata": {},
   "source": [
    "Setting a validation set of 6000 samples from 60000 training images"
   ]
  },
  {
   "cell_type": "code",
   "execution_count": 9,
   "metadata": {},
   "outputs": [],
   "source": [
    "train_images_val = train_images_prepared[:6000]\n",
    "train_images_partial = train_images_prepared[6000:]\n",
    "\n",
    "train_labels_val = train_labels_one_hot[:6000]\n",
    "train_labels_partial = train_labels_one_hot[6000:]"
   ]
  },
  {
   "cell_type": "markdown",
   "metadata": {},
   "source": [
    "Training the model for 10 epochs or passes over the entire dataset"
   ]
  },
  {
   "cell_type": "code",
   "execution_count": 10,
   "metadata": {},
   "outputs": [
    {
     "name": "stdout",
     "output_type": "stream",
     "text": [
      "Train on 54000 samples, validate on 6000 samples\n",
      "Epoch 1/10\n",
      "54000/54000 [==============================] - 6s 108us/step - loss: 0.2693 - acc: 0.9224 - val_loss: 0.1361 - val_acc: 0.9588\n",
      "Epoch 2/10\n",
      "54000/54000 [==============================] - 5s 86us/step - loss: 0.1112 - acc: 0.9667 - val_loss: 0.0912 - val_acc: 0.9732\n",
      "Epoch 3/10\n",
      "54000/54000 [==============================] - 3s 58us/step - loss: 0.0726 - acc: 0.9787 - val_loss: 0.0859 - val_acc: 0.9735\n",
      "Epoch 4/10\n",
      "54000/54000 [==============================] - 3s 58us/step - loss: 0.0529 - acc: 0.9838 - val_loss: 0.0764 - val_acc: 0.9747\n",
      "Epoch 5/10\n",
      "54000/54000 [==============================] - 3s 58us/step - loss: 0.0391 - acc: 0.9884 - val_loss: 0.0745 - val_acc: 0.9773\n",
      "Epoch 6/10\n",
      "54000/54000 [==============================] - 3s 62us/step - loss: 0.0299 - acc: 0.9912 - val_loss: 0.0699 - val_acc: 0.9803\n",
      "Epoch 7/10\n",
      "54000/54000 [==============================] - 3s 63us/step - loss: 0.0222 - acc: 0.9935 - val_loss: 0.0676 - val_acc: 0.9793\n",
      "Epoch 8/10\n",
      "54000/54000 [==============================] - 3s 59us/step - loss: 0.0170 - acc: 0.9951 - val_loss: 0.0732 - val_acc: 0.9795\n",
      "Epoch 9/10\n",
      "54000/54000 [==============================] - 3s 58us/step - loss: 0.0135 - acc: 0.9963 - val_loss: 0.0694 - val_acc: 0.9815\n",
      "Epoch 10/10\n",
      "54000/54000 [==============================] - 3s 58us/step - loss: 0.0106 - acc: 0.9972 - val_loss: 0.0704 - val_acc: 0.9812\n"
     ]
    }
   ],
   "source": [
    "history = model.fit(train_images_partial, train_labels_partial, epochs=10, batch_size=128, validation_data=(train_images_val, train_labels_val))"
   ]
  },
  {
   "cell_type": "markdown",
   "metadata": {},
   "source": [
    "Plotting training and validation loss"
   ]
  },
  {
   "cell_type": "code",
   "execution_count": 11,
   "metadata": {},
   "outputs": [
    {
     "data": {
      "image/png": "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\n",
      "text/plain": [
       "<Figure size 432x288 with 1 Axes>"
      ]
     },
     "metadata": {
      "needs_background": "light"
     },
     "output_type": "display_data"
    }
   ],
   "source": [
    "loss = history.history['loss']\n",
    "validation_loss = history.history['val_loss']\n",
    "epochs = range(1, len(loss) + 1)\n",
    "plt.plot(epochs, loss, 'bo', label='Training loss')\n",
    "plt.plot(epochs, validation_loss, 'b', label='Validation loss')\n",
    "plt.title('Training and validation loss')\n",
    "plt.xlabel('Epochs')\n",
    "plt.ylabel('Loss')\n",
    "plt.legend()\n",
    "\n",
    "plt.show()"
   ]
  },
  {
   "cell_type": "markdown",
   "metadata": {},
   "source": [
    "Plotting training and validation accuracy"
   ]
  },
  {
   "cell_type": "code",
   "execution_count": 12,
   "metadata": {},
   "outputs": [
    {
     "data": {
      "image/png": "iVBORw0KGgoAAAANSUhEUgAAAYsAAAEWCAYAAACXGLsWAAAABHNCSVQICAgIfAhkiAAAAAlwSFlzAAALEgAACxIB0t1+/AAAADl0RVh0U29mdHdhcmUAbWF0cGxvdGxpYiB2ZXJzaW9uIDIuMi4zLCBodHRwOi8vbWF0cGxvdGxpYi5vcmcvIxREBQAAIABJREFUeJzt3XucVWXZ//HPl5OAHAVEBQVMEzkN4ACaB1DDMFMSj4R5Simf1LKsn2ZP9lhkBy2tfHwiQ6VINE3TSk0RIzWLARkQEERDOanDQTygKHj9/lhrhj3DzOwZmD17w3zfr9d+7XW411rXXgP72vd9r3UvRQRmZma1aZbvAMzMrPA5WZiZWVZOFmZmlpWThZmZZeVkYWZmWTlZmJlZVk4WVmeSmkt6R9IBDVk2nyQdJKnBrx+X9ElJyzPml0g6ui5ld+BYt0n61o5ub1YXLfIdgOWOpHcyZtsCm4Gt6fwXI2JaffYXEVuBdg1dtimIiEMaYj+SLgLOiYhRGfu+qCH2bVYbJ4vdWERUfFmnv1wviojHayovqUVEbGmM2Myy8b/HwuJmqCZM0vcl3S3pLklvA+dIOkLSs5LelLRG0s8ltUzLt5AUknqn879L1z8s6W1J/5TUp75l0/UnSloqaaOkX0h6WtL5NcRdlxi/KGmZpA2Sfp6xbXNJP5O0TtLLwJhazs81kqZXWXaLpJ+m0xdJWpx+npfSX/017WulpFHpdFtJv01jWwgcVqXstyW9nO53oaRT0uUDgV8CR6dNfGszzu13M7b/UvrZ10l6QNK+dTk39TnP5fFIelzSekmvSfpmxnH+Oz0nb0kqkbRfdU1+kp4q/zun53NWepz1wLclHSxpZnqMtel565ixfa/0M5al62+W1DqN+dCMcvtK2iSpS02f17KICL+awAtYDnyyyrLvAx8AJ5P8cGgDDANGkNQ6DwSWApem5VsAAfRO538HrAWKgZbA3cDvdqDs3sDbwNh03deAD4Hza/gsdYnxT0BHoDewvvyzA5cCC4GeQBdgVvLfoNrjHAi8A+yZse83gOJ0/uS0jIDjgPeAQem6TwLLM/a1EhiVTt8APAl0BnoBi6qUPRPYN/2bfC6NoXu67iLgySpx/g74bjp9QhrjYKA18L/AE3U5N/U8zx2B14GvAHsAHYDh6bqrgVLg4PQzDAb2Ag6qeq6Bp8r/zuln2wJcAjQn+ff4ceB4oFX67+Rp4IaMz/N8ej73TMsfma6bDEzKOM7Xgfvz/f9wV37lPQC/GukPXXOyeCLLdlcCf0inq0sA/5dR9hTg+R0oeyHwj4x1AtZQQ7KoY4yHZ6z/I3BlOj2LpDmufN2nq36BVdn3s8Dn0ukTgSW1lP0z8OV0urZk8Wrm3wL4r8yy1ez3eeCkdDpbsrgT+EHGug4k/VQ9s52bep7nzwOzayj3Unm8VZbXJVm8nCWG08uPCxwNvAY0r6bckcB/AKXz84BxDf3/qim93AxlKzJnJPWV9Je0WeEt4Dqgay3bv5YxvYnaO7VrKrtfZhyR/O9eWdNO6hhjnY4FvFJLvAC/B8an059L58vj+Iykf6VNJG+S/Kqv7VyV27e2GCSdL6k0bUp5E+hbx/1C8vkq9hcRbwEbgB4ZZer0N8tynvcnSQrVqW1dNlX/Pe4j6R5Jq9IY7qgSw/JILqaoJCKeJqmlHCVpAHAA8JcdjMlwn4UlvzQz/Yrkl+xBEdEB+A7JL/1cWkPyyxcASaLyl1tVOxPjGpIvmXLZLu29B/ikpB4kzWS/T2NsA9wLXE/SR